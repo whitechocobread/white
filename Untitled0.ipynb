{
  "nbformat": 4,
  "nbformat_minor": 0,
  "metadata": {
    "colab": {
      "provenance": [],
      "authorship_tag": "ABX9TyNrcMLX33GSniE8L1BxWPDQ",
      "include_colab_link": true
    },
    "kernelspec": {
      "name": "python3",
      "display_name": "Python 3"
    },
    "language_info": {
      "name": "python"
    }
  },
  "cells": [
    {
      "cell_type": "markdown",
      "metadata": {
        "id": "view-in-github",
        "colab_type": "text"
      },
      "source": [
        "<a href=\"https://colab.research.google.com/github/whitechocobread/white/blob/master/Untitled0.ipynb\" target=\"_parent\"><img src=\"https://colab.research.google.com/assets/colab-badge.svg\" alt=\"Open In Colab\"/></a>"
      ]
    },
    {
      "cell_type": "code",
      "execution_count": 6,
      "metadata": {
        "id": "QYTowEnBvCoP"
      },
      "outputs": [],
      "source": [
        "import torch\n",
        "import torch.nn as nn\n",
        "\n",
        "device = 'cuda' if torch.cuda.is_available() else 'cpu'\n",
        "\n",
        "torch.manual_seed(2022)\n",
        "if device == 'cuda':\n",
        "  torch.cuda.manual_seed_all(2022) "
      ]
    },
    {
      "cell_type": "code",
      "source": [
        "X = torch.FloatTensor([\n",
        "    [0, 0],\n",
        "    [0, 1],\n",
        "    [1, 0],\n",
        "    [1, 1]]).to(device)\n",
        "\n",
        "Y = torch.FloatTensor([[0], [0], [0], [1]]).to(device)"
      ],
      "metadata": {
        "id": "DsD7P4qMyhTq"
      },
      "execution_count": 14,
      "outputs": []
    },
    {
      "cell_type": "code",
      "source": [
        "model = nn.Sequential(nn.Linear(2, 1, bias=True), nn.Sigmoid()).to(device)"
      ],
      "metadata": {
        "id": "Mt3Ojd_W0D4v"
      },
      "execution_count": 15,
      "outputs": []
    },
    {
      "cell_type": "code",
      "source": [
        "loss_func = torch.nn.BCELoss().to(device)\n",
        "optimizer = torch.optim.SGD(model.parameters(), lr=0.01)"
      ],
      "metadata": {
        "id": "4QkgpqVn0grK"
      },
      "execution_count": 16,
      "outputs": []
    },
    {
      "cell_type": "code",
      "source": [
        "for step in range(20001):\n",
        "  optimizer.zero_grad()\n",
        "\n",
        "  Y_hat = model(X)\n",
        "  loss = loss_func(Y_hat, Y)\n",
        "  loss.backward()\n",
        "  optimizer.step()\n",
        "\n",
        "  if step % 1000 == 0:\n",
        "    print(step, loss.item())"
      ],
      "metadata": {
        "colab": {
          "base_uri": "https://localhost:8080/"
        },
        "id": "J7rGSm4j1VfW",
        "outputId": "e59ef5cb-d9bf-4b85-d674-c308982c8cd8"
      },
      "execution_count": 17,
      "outputs": [
        {
          "output_type": "stream",
          "name": "stdout",
          "text": [
            "0 0.703931987285614\n",
            "1000 0.4906957149505615\n",
            "2000 0.379321426153183\n",
            "3000 0.3122674226760864\n",
            "4000 0.2669699788093567\n",
            "5000 0.23389142751693726\n",
            "6000 0.20843331515789032\n",
            "7000 0.18810656666755676\n",
            "8000 0.17143481969833374\n",
            "9000 0.15747860074043274\n",
            "10000 0.14560581743717194\n",
            "11000 0.13537277281284332\n",
            "12000 0.12645688652992249\n",
            "13000 0.11861693859100342\n",
            "14000 0.11166848987340927\n",
            "15000 0.10546746850013733\n",
            "16000 0.09989982843399048\n",
            "17000 0.09487374126911163\n",
            "18000 0.09031432121992111\n",
            "19000 0.0861601009964943\n",
            "20000 0.08235996961593628\n"
          ]
        }
      ]
    },
    {
      "cell_type": "code",
      "source": [
        "with torch.no_grad():\n",
        "  model.eval()\n",
        "  inputs = torch.FloatTensor([[0, 0],[0, 1], [1, 0], [1, 1]]).to(device)\n",
        "  outputs = model(inputs)\n",
        "\n",
        "  print(outputs)\n",
        "  print(outputs > 0.5)"
      ],
      "metadata": {
        "colab": {
          "base_uri": "https://localhost:8080/"
        },
        "id": "PElnj7bT2GJ4",
        "outputId": "486ba661-3cca-458c-c667-435b19a5ef13"
      },
      "execution_count": 18,
      "outputs": [
        {
          "output_type": "stream",
          "name": "stdout",
          "text": [
            "tensor([[0.0015],\n",
            "        [0.0910],\n",
            "        [0.0910],\n",
            "        [0.8718]])\n",
            "tensor([[False],\n",
            "        [False],\n",
            "        [False],\n",
            "        [ True]])\n"
          ]
        }
      ]
    }
  ]
}